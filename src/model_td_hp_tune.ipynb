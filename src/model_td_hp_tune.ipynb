{
 "cells": [
  {
   "cell_type": "code",
   "execution_count": null,
   "id": "0cfac15b-ba04-4595-a5c6-e21c36f8a637",
   "metadata": {},
   "outputs": [],
   "source": [
    "import torch\n",
    "import torch.nn as nn\n",
    "from torch.utils.data import DataLoader\n",
    "from model import touchdownNetwork\n",
    "from dataset import nfl_touchdown_data\n",
    "from train import touchdown_model_trainer, TD_FREQ\n",
    "import warnings"
   ]
  },
  {
   "cell_type": "code",
   "execution_count": null,
   "id": "462e50b3-0996-4e7d-af0e-eda4ccf93594",
   "metadata": {},
   "outputs": [],
   "source": [
    "device = torch.device(\"cuda:0\") if torch.cuda.is_available() else torch.device(\"cpu\")\n",
    "device"
   ]
  },
  {
   "cell_type": "code",
   "execution_count": null,
   "id": "cef8ad7e-db86-46bf-834d-845e124f9b9a",
   "metadata": {},
   "outputs": [],
   "source": [
    "TRAIN = \"../features/train\"\n",
    "VAL = \"../features/validate\"\n",
    "MASTER_FNAME = \"master.csv\""
   ]
  },
  {
   "cell_type": "code",
   "execution_count": null,
   "id": "820decfd-c3b2-452f-bec5-c0c4205c4f48",
   "metadata": {},
   "outputs": [],
   "source": [
    "train_nfl_touchdown_data = nfl_touchdown_data(TRAIN, MASTER_FNAME)\n",
    "train_nfl_touchdown_data_loader = DataLoader(train_nfl_touchdown_data, batch_size=128, shuffle=True, drop_last=True, pin_memory=True, num_workers=20)\n",
    "\n",
    "val_nfl_touchdown_data = nfl_touchdown_data(VAL, MASTER_FNAME)\n",
    "val_nfl_touchdown_data_loader = DataLoader(val_nfl_touchdown_data, batch_size=128, shuffle=False, drop_last=False, num_workers=20)"
   ]
  },
  {
   "cell_type": "code",
   "execution_count": null,
   "id": "8f0bfe05-64e7-40d5-8c71-352c7c7ec867",
   "metadata": {},
   "outputs": [],
   "source": [
    "# hyperparameters\n",
    "epochs = 50\n",
    "sensitivity_weight = 0.15\n",
    "lr = 0.001\n",
    "betas=(0.99, 0.999)\n",
    "\n",
    "activation = nn.LeakyReLU()\n",
    "model = touchdownNetwork(activation).to(device)\n",
    "optimizer = 'Adam'\n",
    "\n",
    "seed = 90\n",
    "torch.manual_seed(seed)\n",
    "\n",
    "with warnings.catch_warnings():\n",
    "    warnings.simplefilter('ignore')\n",
    "    model_trainer = touchdown_model_trainer(\n",
    "        model,\n",
    "        optimizer,\n",
    "        epochs,\n",
    "        TD_FREQ,\n",
    "        train_nfl_touchdown_data_loader,\n",
    "        val_nfl_touchdown_data_loader,\n",
    "        sensitivity_weight=sensitivity_weight,\n",
    "        lr=lr,\n",
    "        betas=betas\n",
    "    )\n",
    "\n",
    "    model_trainer.save_hyperparameters()\n",
    "    model_trainer.fit()"
   ]
  },
  {
   "cell_type": "code",
   "execution_count": null,
   "id": "ff9573da-8579-451a-8846-475c1a98fa55",
   "metadata": {},
   "outputs": [],
   "source": []
  }
 ],
 "metadata": {
  "kernelspec": {
   "display_name": "torch",
   "language": "python",
   "name": "torch"
  },
  "language_info": {
   "codemirror_mode": {
    "name": "ipython",
    "version": 3
   },
   "file_extension": ".py",
   "mimetype": "text/x-python",
   "name": "python",
   "nbconvert_exporter": "python",
   "pygments_lexer": "ipython3",
   "version": "3.11.5"
  }
 },
 "nbformat": 4,
 "nbformat_minor": 5
}
