{
 "cells": [
  {
   "cell_type": "code",
   "execution_count": null,
   "id": "0cfac15b-ba04-4595-a5c6-e21c36f8a637",
   "metadata": {},
   "outputs": [],
   "source": [
    "import torch\n",
    "import torch.nn as nn\n",
    "from torch.utils.data import DataLoader\n",
    "from model import tackleNetwork\n",
    "from dataset import nfl_tackle_data\n",
    "from train import tackle_model_trainer\n",
    "import warnings"
   ]
  },
  {
   "cell_type": "code",
   "execution_count": null,
   "id": "580b6e34-273d-4799-8af2-c1fbd5a616c9",
   "metadata": {},
   "outputs": [],
   "source": [
    "device = torch.device(\"cuda:0\") if torch.cuda.is_available() else torch.device(\"cpu\")\n",
    "device"
   ]
  },
  {
   "cell_type": "code",
   "execution_count": null,
   "id": "cef8ad7e-db86-46bf-834d-845e124f9b9a",
   "metadata": {},
   "outputs": [],
   "source": [
    "FEATURES = \"../features\"\n",
    "MASTER_FNAME = \"master.csv\""
   ]
  },
  {
   "cell_type": "code",
   "execution_count": null,
   "id": "820decfd-c3b2-452f-bec5-c0c4205c4f48",
   "metadata": {},
   "outputs": [],
   "source": [
    "train_nfl_tackle_data = nfl_tackle_data(FEATURES, MASTER_FNAME)\n",
    "train_nfl_tackle_data_loader = DataLoader(train_nfl_tackle_data, batch_size=128, shuffle=True, drop_last=True, pin_memory=True, num_workers=20)"
   ]
  },
  {
   "cell_type": "code",
   "execution_count": null,
   "id": "8f0bfe05-64e7-40d5-8c71-352c7c7ec867",
   "metadata": {},
   "outputs": [],
   "source": [
    "# hyperparameters\n",
    "class_weight = 0.8\n",
    "x_loss_weight = 0.9\n",
    "epochs = 100\n",
    "sensitivity_weight = 0.4\n",
    "lr = 0.002\n",
    "betas=(0.9, 0.999)\n",
    "\n",
    "activation = nn.LeakyReLU()\n",
    "model = tackleNetwork(activation).to(device)\n",
    "optimizer = 'Adam'\n",
    "\n",
    "seed = 90\n",
    "torch.manual_seed(seed)\n",
    "\n",
    "model_name = f'clss-wt-{class_weight}_x-lss-wt_{x_loss_weight}_x-sens-wt_{sensitivity_weight}'\n",
    "\n",
    "with warnings.catch_warnings():\n",
    "    warnings.simplefilter('ignore')\n",
    "    model_trainer = tackle_model_trainer(\n",
    "        model,\n",
    "        device,\n",
    "        optimizer,\n",
    "        epochs,\n",
    "        class_weight,\n",
    "        x_loss_weight,\n",
    "        train_nfl_tackle_data_loader,\n",
    "        sensitivity_weight=sensitivity_weight,\n",
    "        lr=lr,\n",
    "        betas=betas\n",
    "    )\n",
    "\n",
    "    model_trainer.save_hyperparameters()\n",
    "    model_trainer.fit()"
   ]
  },
  {
   "cell_type": "code",
   "execution_count": null,
   "id": "9c7cf027-b654-4bb6-9593-83cc1fc04b2f",
   "metadata": {},
   "outputs": [],
   "source": []
  }
 ],
 "metadata": {
  "kernelspec": {
   "display_name": "torch",
   "language": "python",
   "name": "torch"
  },
  "language_info": {
   "codemirror_mode": {
    "name": "ipython",
    "version": 3
   },
   "file_extension": ".py",
   "mimetype": "text/x-python",
   "name": "python",
   "nbconvert_exporter": "python",
   "pygments_lexer": "ipython3",
   "version": "3.11.5"
  }
 },
 "nbformat": 4,
 "nbformat_minor": 5
}
